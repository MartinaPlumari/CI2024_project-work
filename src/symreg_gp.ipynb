{
 "cells": [
  {
   "cell_type": "markdown",
   "metadata": {},
   "source": [
    "# Formula Generation using Genetic Programming"
   ]
  },
  {
   "cell_type": "code",
   "execution_count": 271,
   "metadata": {},
   "outputs": [],
   "source": [
    "import sys\n",
    "import numpy as np\n",
    "import tree.tree as t\n",
    "from dataclasses import dataclass\n",
    "\n",
    "from icecream import ic"
   ]
  },
  {
   "cell_type": "code",
   "execution_count": 272,
   "metadata": {},
   "outputs": [],
   "source": [
    "#attach the tree module to the path\n",
    "sys.path.append('tree')"
   ]
  },
  {
   "cell_type": "code",
   "execution_count": 273,
   "metadata": {},
   "outputs": [
    {
     "name": "stdout",
     "output_type": "stream",
     "text": [
      "['x0', 'x1']\n"
     ]
    }
   ],
   "source": [
    "problem = np.load('../data/problem_0.npz')\n",
    "x = problem['x'] #variables\n",
    "y = problem['y'] #results\n",
    "x.shape, y.shape\n",
    "\n",
    "#Create the list of variables to be used in the tree\n",
    "var = []\n",
    "\n",
    "for i in range(x.shape[0]):\n",
    "    var.append('x' + str(i))\n",
    "    \n",
    "print(var)\n",
    "\n",
    "tree = t.create_random_tree(var)"
   ]
  },
  {
   "cell_type": "code",
   "execution_count": 274,
   "metadata": {},
   "outputs": [],
   "source": [
    "TAU = 3\n",
    "\n",
    "#voglio calcolare la fitness sulla singola entry del dataset o su tutto ul dataset?\n",
    "def fitness(tree: t.Node, y: np.ndarray, x: np.ndarray) -> float:\n",
    "    return - 100*np.square(y-tree(x0 = x[0], x1 = x[1])).sum()/len(y)"
   ]
  },
  {
   "cell_type": "code",
   "execution_count": 275,
   "metadata": {},
   "outputs": [
    {
     "name": "stdout",
     "output_type": "stream",
     "text": [
      "np.log(np.sqrt(np.sqrt(np.divide(-44.1589, np.exp(np.subtract(-26.3203, -59.1765))))))\n",
      "nan\n"
     ]
    },
    {
     "data": {
      "text/plain": [
       "np.float64(nan)"
      ]
     },
     "execution_count": 275,
     "metadata": {},
     "output_type": "execute_result"
    }
   ],
   "source": [
    "print(str(tree))\n",
    "print(tree(x0 = x[0], x1 = x[1]))\n",
    "fitness(tree, x, y)"
   ]
  }
 ],
 "metadata": {
  "kernelspec": {
   "display_name": "venv",
   "language": "python",
   "name": "python3"
  },
  "language_info": {
   "codemirror_mode": {
    "name": "ipython",
    "version": 3
   },
   "file_extension": ".py",
   "mimetype": "text/x-python",
   "name": "python",
   "nbconvert_exporter": "python",
   "pygments_lexer": "ipython3",
   "version": "3.12.0"
  }
 },
 "nbformat": 4,
 "nbformat_minor": 2
}
